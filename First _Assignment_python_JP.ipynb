{
 "cells": [
  {
   "cell_type": "markdown",
   "id": "4dcf9ece",
   "metadata": {},
   "source": [
    "1. Write a program to print thr following string in a specific format:"
   ]
  },
  {
   "cell_type": "code",
   "execution_count": 1,
   "id": "ee522016",
   "metadata": {},
   "outputs": [
    {
     "name": "stdout",
     "output_type": "stream",
     "text": [
      " Twinkle, twinkle, little star \n",
      " \n",
      "                How I wonder what you are! \n",
      "\n",
      "                        Up aboved World so high! \n",
      "\n",
      "                        like a diamond in the sky \n",
      "\n",
      "Twinkle, twinkle, little star \n",
      " \n",
      "         How I wonder what you are! \n"
     ]
    }
   ],
   "source": [
    "poem=\"\"\" Twinkle, twinkle, little star \\n \n",
    "                How I wonder what you are! \\n\n",
    "                        Up aboved World so high! \\n\n",
    "                        like a diamond in the sky \\n\n",
    "Twinkle, twinkle, little star \\n \n",
    "         How I wonder what you are! \"\"\"\n",
    "print(poem)\n"
   ]
  },
  {
   "cell_type": "markdown",
   "id": "da4aad43",
   "metadata": {},
   "source": [
    "2. Compute the Area of the Circle:\n"
   ]
  },
  {
   "cell_type": "code",
   "execution_count": 2,
   "id": "54783e14",
   "metadata": {},
   "outputs": [
    {
     "name": "stdout",
     "output_type": "stream",
     "text": [
      "Enter the Radius of the Circle in meter 2\n",
      "12.5708\n"
     ]
    }
   ],
   "source": [
    "Radius = int(input(\"Enter the Radius of the Circle in meter \"))\n",
    "Area = 3.1427*Radius**2\n",
    "print(Area)"
   ]
  },
  {
   "cell_type": "markdown",
   "id": "964cef5f",
   "metadata": {},
   "source": [
    "3. Write python program which accept first and last name and print them in treverse order with a space between them.  "
   ]
  },
  {
   "cell_type": "code",
   "execution_count": 3,
   "id": "721981c8",
   "metadata": {},
   "outputs": [
    {
     "name": "stdout",
     "output_type": "stream",
     "text": [
      "Enter Your First Name Muhammad\n",
      "Enter Your Last Name Haroon\n",
      "Your full name is, Haroon Muhammad\n"
     ]
    }
   ],
   "source": [
    "First_Name = input(\"Enter Your First Name \")\n",
    "Last_Name = input(\"Enter Your Last Name \")\n",
    "print (f\"Your full name is, {Last_Name} {First_Name}\")\n"
   ]
  },
  {
   "cell_type": "markdown",
   "id": "8caabbc2",
   "metadata": {},
   "source": [
    "4. Write a program that accept two inputs from user and print them addition"
   ]
  },
  {
   "cell_type": "code",
   "execution_count": 14,
   "id": "28d6ff25",
   "metadata": {},
   "outputs": [
    {
     "name": "stdout",
     "output_type": "stream",
     "text": [
      "Enter your fisrt number 12\n",
      "Enter your second number 12\n",
      "24\n"
     ]
    }
   ],
   "source": [
    "First_Number = int(input(\"Enter your fisrt number \"))\n",
    "Second_Number = int(input(\"Enter your second number \"))\n",
    "Result= First_Number+Second_Number \n",
    "print(Result)"
   ]
  },
  {
   "cell_type": "markdown",
   "id": "343fdf33",
   "metadata": {},
   "source": [
    "5. Check the version of Python:"
   ]
  },
  {
   "cell_type": "code",
   "execution_count": 19,
   "id": "0da28d56",
   "metadata": {},
   "outputs": [
    {
     "name": "stdout",
     "output_type": "stream",
     "text": [
      "3.9.7\n"
     ]
    }
   ],
   "source": [
    "from platform import python_version\n",
    "print(python_version())"
   ]
  },
  {
   "cell_type": "raw",
   "id": "4b25025f",
   "metadata": {},
   "source": [
    "6. Current datetime:"
   ]
  },
  {
   "cell_type": "code",
   "execution_count": 26,
   "id": "154194dc",
   "metadata": {},
   "outputs": [
    {
     "ename": "SyntaxError",
     "evalue": "EOL while scanning string literal (Temp/ipykernel_13216/1851122544.py, line 4)",
     "output_type": "error",
     "traceback": [
      "\u001b[1;36m  File \u001b[1;32m\"C:\\Users\\MAkro\\AppData\\Local\\Temp/ipykernel_13216/1851122544.py\"\u001b[1;36m, line \u001b[1;32m4\u001b[0m\n\u001b[1;33m    print(now.strftime(\"%d-%m-%y %H:%M:%S))\u001b[0m\n\u001b[1;37m                                            ^\u001b[0m\n\u001b[1;31mSyntaxError\u001b[0m\u001b[1;31m:\u001b[0m EOL while scanning string literal\n"
     ]
    }
   ],
   "source": [
    "import datetime\n",
    "now= datetime.datetime.now()\n",
    "print(\"Current date and time is \")\n",
    "print(now.strftime(\"%d-%m-%y %H:%M:%S)) "
   ]
  },
  {
   "cell_type": "code",
   "execution_count": null,
   "id": "e100827f",
   "metadata": {},
   "outputs": [],
   "source": []
  }
 ],
 "metadata": {
  "kernelspec": {
   "display_name": "Python 3 (ipykernel)",
   "language": "python",
   "name": "python3"
  },
  "language_info": {
   "codemirror_mode": {
    "name": "ipython",
    "version": 3
   },
   "file_extension": ".py",
   "mimetype": "text/x-python",
   "name": "python",
   "nbconvert_exporter": "python",
   "pygments_lexer": "ipython3",
   "version": "3.9.7"
  }
 },
 "nbformat": 4,
 "nbformat_minor": 5
}
